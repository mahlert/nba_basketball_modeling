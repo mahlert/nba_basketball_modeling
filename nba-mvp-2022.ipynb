{
 "cells": [
  {
   "cell_type": "code",
   "execution_count": 1,
   "id": "82deeaaf",
   "metadata": {
    "_cell_guid": "b1076dfc-b9ad-4769-8c92-a6c4dae69d19",
    "_uuid": "8f2839f25d086af736a60e9eeb907d3b93b6e0e5",
    "execution": {
     "iopub.execute_input": "2022-03-22T01:10:27.149773Z",
     "iopub.status.busy": "2022-03-22T01:10:27.148983Z",
     "iopub.status.idle": "2022-03-22T01:10:28.633913Z",
     "shell.execute_reply": "2022-03-22T01:10:28.633158Z",
     "shell.execute_reply.started": "2022-03-22T00:55:45.116997Z"
    },
    "papermill": {
     "duration": 1.503025,
     "end_time": "2022-03-22T01:10:28.634106",
     "exception": false,
     "start_time": "2022-03-22T01:10:27.131081",
     "status": "completed"
    },
    "tags": []
   },
   "outputs": [
    {
     "data": {
      "text/plain": [
       "DecisionTreeRegressor(random_state=1)"
      ]
     },
     "execution_count": 1,
     "metadata": {},
     "output_type": "execute_result"
    }
   ],
   "source": [
    "import numpy as np # linear algebra\n",
    "import pandas as pd # data processing, CSV file I/O (e.g. pd.read_csv)\n",
    "\n",
    "# Decision Tree model\n",
    "from sklearn.tree import DecisionTreeRegressor\n",
    "        \n",
    "combined_seasons_path = '/kaggle/input/nba-player-season-stats/combined_seasons.csv'\n",
    "combined_seasons = pd.read_csv(combined_seasons_path)\n",
    "\n",
    "# Drop data that is NaN\n",
    "combined_seasons = combined_seasons.dropna(axis=0)\n",
    "\n",
    "# X for predictive columns of combined_seasons\n",
    "combined_seasons_features = ['FG%', 'TRB', 'AST', 'STL', 'BLK', 'TOV', 'PTS']\n",
    "X = combined_seasons[combined_seasons_features]\n",
    "\n",
    "# Y for desired output of combined_seasons\n",
    "Y = combined_seasons.isMVP\n",
    "\n",
    "# Model with Random State of 1\n",
    "mvp_model = DecisionTreeRegressor(random_state=1)\n",
    "\n",
    "# Fit the Model\n",
    "mvp_model.fit(X,Y)"
   ]
  },
  {
   "cell_type": "code",
   "execution_count": 2,
   "id": "92bb6a1b",
   "metadata": {
    "execution": {
     "iopub.execute_input": "2022-03-22T01:10:28.651483Z",
     "iopub.status.busy": "2022-03-22T01:10:28.650694Z",
     "iopub.status.idle": "2022-03-22T01:10:28.677910Z",
     "shell.execute_reply": "2022-03-22T01:10:28.676707Z",
     "shell.execute_reply.started": "2022-03-22T01:09:35.263445Z"
    },
    "papermill": {
     "duration": 0.038616,
     "end_time": "2022-03-22T01:10:28.678184",
     "exception": false,
     "start_time": "2022-03-22T01:10:28.639568",
     "status": "completed"
    },
    "tags": []
   },
   "outputs": [
    {
     "name": "stdout",
     "output_type": "stream",
     "text": [
      "Current Season\n",
      "     FG%   TRB  AST  STL  BLK  TOV   PTS\n",
      "0  0.436   6.8  1.1  0.5  0.6  1.2   8.6\n",
      "1  0.555   9.9  3.2  0.8  0.8  1.6   7.2\n",
      "2  0.545  10.3  3.5  1.5  0.8  2.7  19.0\n",
      "3  0.381   2.4  0.5  0.1  0.3  0.3   3.3\n",
      "4  0.554   5.6  0.9  0.3  1.0  0.9  13.5\n",
      "Current Season Predictions\n",
      "[0. 0. 0. 0. 0.]\n"
     ]
    }
   ],
   "source": [
    "# Predicting first 5 players in a 2021-2022 season\n",
    "\n",
    "# Pathing and DataFrame creation for current season\n",
    "current_season_path = '/kaggle/input/nba-player-season-stats/2021-2022.csv'\n",
    "current_season = pd.read_csv(current_season_path)\n",
    "\n",
    "current_season_features = ['FG%', 'TRB', 'AST', 'STL', 'BLK', 'TOV', 'PTS']\n",
    "X = current_season[current_season_features]\n",
    "\n",
    "# Printing Head of Current Season\n",
    "print(\"Current Season\")\n",
    "print(X.head())\n",
    "\n",
    "# Prediction for head of Current season\n",
    "print(\"Current Season Predictions\")\n",
    "print(mvp_model.predict(X.head()))"
   ]
  }
 ],
 "metadata": {
  "kernelspec": {
   "display_name": "Python 3",
   "language": "python",
   "name": "python3"
  },
  "language_info": {
   "codemirror_mode": {
    "name": "ipython",
    "version": 3
   },
   "file_extension": ".py",
   "mimetype": "text/x-python",
   "name": "python",
   "nbconvert_exporter": "python",
   "pygments_lexer": "ipython3",
   "version": "3.7.12"
  },
  "papermill": {
   "default_parameters": {},
   "duration": 12.620973,
   "end_time": "2022-03-22T01:10:29.495193",
   "environment_variables": {},
   "exception": null,
   "input_path": "__notebook__.ipynb",
   "output_path": "__notebook__.ipynb",
   "parameters": {},
   "start_time": "2022-03-22T01:10:16.874220",
   "version": "2.3.3"
  }
 },
 "nbformat": 4,
 "nbformat_minor": 5
}
