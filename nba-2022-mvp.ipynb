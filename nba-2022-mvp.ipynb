{
 "cells": [
  {
   "cell_type": "code",
   "execution_count": 1,
   "id": "39b96c34",
   "metadata": {
    "_cell_guid": "b1076dfc-b9ad-4769-8c92-a6c4dae69d19",
    "_uuid": "8f2839f25d086af736a60e9eeb907d3b93b6e0e5",
    "execution": {
     "iopub.execute_input": "2022-03-21T22:51:59.181616Z",
     "iopub.status.busy": "2022-03-21T22:51:59.180220Z",
     "iopub.status.idle": "2022-03-21T22:51:59.206940Z",
     "shell.execute_reply": "2022-03-21T22:51:59.207817Z"
    },
    "papermill": {
     "duration": 0.035873,
     "end_time": "2022-03-21T22:51:59.208237",
     "exception": false,
     "start_time": "2022-03-21T22:51:59.172364",
     "status": "completed"
    },
    "tags": []
   },
   "outputs": [
    {
     "name": "stdout",
     "output_type": "stream",
     "text": [
      "/kaggle/input/nba-player-season-stats/2019-2020.csv\n",
      "/kaggle/input/nba-player-season-stats/2009-2010.csv\n",
      "/kaggle/input/nba-player-season-stats/2010-2011.csv\n",
      "/kaggle/input/nba-player-season-stats/2018-2019.csv\n",
      "/kaggle/input/nba-player-season-stats/2011-2012.csv\n",
      "/kaggle/input/nba-player-season-stats/2007-2008.csv\n",
      "/kaggle/input/nba-player-season-stats/2017-2018.csv\n",
      "/kaggle/input/nba-player-season-stats/1999-2000.csv\n",
      "/kaggle/input/nba-player-season-stats/2013-2014.csv\n",
      "/kaggle/input/nba-player-season-stats/2016-2017.csv\n",
      "/kaggle/input/nba-player-season-stats/1998-1999.csv\n",
      "/kaggle/input/nba-player-season-stats/2008-2009.csv\n",
      "/kaggle/input/nba-player-season-stats/2000-2001.csv\n",
      "/kaggle/input/nba-player-season-stats/2002-2003.csv\n",
      "/kaggle/input/nba-player-season-stats/2003-2004.csv\n",
      "/kaggle/input/nba-player-season-stats/2001-2002.csv\n",
      "/kaggle/input/nba-player-season-stats/league_mvps.csv\n",
      "/kaggle/input/nba-player-season-stats/2020-2021.csv\n",
      "/kaggle/input/nba-player-season-stats/2004-2005.csv\n",
      "/kaggle/input/nba-player-season-stats/2012-2013.csv\n",
      "/kaggle/input/nba-player-season-stats/2006-2007.csv\n",
      "/kaggle/input/nba-player-season-stats/2005-2006.csv\n",
      "/kaggle/input/nba-player-season-stats/2021-2022.csv\n",
      "/kaggle/input/nba-player-season-stats/2014-2015.csv\n",
      "/kaggle/input/nba-player-season-stats/2015-2016.csv\n"
     ]
    }
   ],
   "source": [
    "# This Python 3 environment comes with many helpful analytics libraries installed\n",
    "# It is defined by the kaggle/python Docker image: https://github.com/kaggle/docker-python\n",
    "# For example, here's several helpful packages to load\n",
    "\n",
    "import numpy as np # linear algebra\n",
    "import pandas as pd # data processing, CSV file I/O (e.g. pd.read_csv)\n",
    "\n",
    "# Input data files are available in the read-only \"../input/\" directory\n",
    "# For example, running this (by clicking run or pressing Shift+Enter) will list all files under the input directory\n",
    "\n",
    "import os\n",
    "for dirname, _, filenames in os.walk('/kaggle/input'):\n",
    "    for filename in filenames:\n",
    "        print(os.path.join(dirname, filename))\n",
    "\n",
    "# You can write up to 20GB to the current directory (/kaggle/working/) that gets preserved as output when you create a version using \"Save & Run All\" \n",
    "# You can also write temporary files to /kaggle/temp/, but they won't be saved outside of the current session\n",
    "\n",
    "\n"
   ]
  }
 ],
 "metadata": {
  "kernelspec": {
   "display_name": "Python 3",
   "language": "python",
   "name": "python3"
  },
  "language_info": {
   "codemirror_mode": {
    "name": "ipython",
    "version": 3
   },
   "file_extension": ".py",
   "mimetype": "text/x-python",
   "name": "python",
   "nbconvert_exporter": "python",
   "pygments_lexer": "ipython3",
   "version": "3.7.12"
  },
  "papermill": {
   "default_parameters": {},
   "duration": 12.9838,
   "end_time": "2022-03-21T22:51:59.924478",
   "environment_variables": {},
   "exception": null,
   "input_path": "__notebook__.ipynb",
   "output_path": "__notebook__.ipynb",
   "parameters": {},
   "start_time": "2022-03-21T22:51:46.940678",
   "version": "2.3.3"
  }
 },
 "nbformat": 4,
 "nbformat_minor": 5
}
